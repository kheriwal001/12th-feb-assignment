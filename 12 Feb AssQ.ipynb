{
 "cells": [
  {
   "cell_type": "code",
   "execution_count": null,
   "id": "301aa579-2695-4a53-b9ac-b97fee282128",
   "metadata": {},
   "outputs": [],
   "source": [
    "Q.1> What is an Exception in python? Write the difference between Exceptions and syntex error.\n",
    "Ans> An exception in Python is an event that occurs during the execution of a program and disrupts \n",
    "     the normal flow of the program's instructions. Exceptions are used to indicate that an error \n",
    "     has occurred during the execution of the program, which can be caused by various reasons such \n",
    "     as an invalid user input, division by zero, trying to access a file that doesn't exist, etc.\n",
    "\n",
    "     The main difference between exceptions and syntax errors is that syntax errors occur when the \n",
    "     code written is not valid according to the rules of the Python syntax, whereas exceptions occur \n",
    "     when the code is syntactically correct, but an error occurs during its execution. Syntax errors \n",
    "     are caught by the Python interpreter during the compilation of the code and prevent the code from \n",
    "     being executed, whereas exceptions are raised at runtime and can be handled by the program to prevent \n",
    "     it from crashing.\n",
    "\n"
   ]
  },
  {
   "cell_type": "code",
   "execution_count": 2,
   "id": "bdb690b3-88fa-4c06-b08b-42bbbe097b7f",
   "metadata": {
    "collapsed": true,
    "jupyter": {
     "outputs_hidden": true
    },
    "tags": []
   },
   "outputs": [
    {
     "name": "stdout",
     "output_type": "stream",
     "text": [
      "5.0\n"
     ]
    },
    {
     "ename": "ZeroDivisionError",
     "evalue": "division by zero",
     "output_type": "error",
     "traceback": [
      "\u001b[0;31m---------------------------------------------------------------------------\u001b[0m",
      "\u001b[0;31mZeroDivisionError\u001b[0m                         Traceback (most recent call last)",
      "Cell \u001b[0;32mIn[2], line 11\u001b[0m\n\u001b[1;32m      8\u001b[0m     \u001b[38;5;28;01mreturn\u001b[39;00m a \u001b[38;5;241m/\u001b[39m b\n\u001b[1;32m     10\u001b[0m \u001b[38;5;28mprint\u001b[39m(divide(\u001b[38;5;241m10\u001b[39m, \u001b[38;5;241m2\u001b[39m))\n\u001b[0;32m---> 11\u001b[0m \u001b[38;5;28mprint\u001b[39m(\u001b[43mdivide\u001b[49m\u001b[43m(\u001b[49m\u001b[38;5;241;43m10\u001b[39;49m\u001b[43m,\u001b[49m\u001b[43m \u001b[49m\u001b[38;5;241;43m0\u001b[39;49m\u001b[43m)\u001b[49m)\n\u001b[1;32m     12\u001b[0m \u001b[38;5;28mprint\u001b[39m(divide(\u001b[38;5;241m20\u001b[39m, \u001b[38;5;241m10\u001b[39m))\n",
      "Cell \u001b[0;32mIn[2], line 8\u001b[0m, in \u001b[0;36mdivide\u001b[0;34m(a, b)\u001b[0m\n\u001b[1;32m      7\u001b[0m \u001b[38;5;28;01mdef\u001b[39;00m \u001b[38;5;21mdivide\u001b[39m(a, b):\n\u001b[0;32m----> 8\u001b[0m     \u001b[38;5;28;01mreturn\u001b[39;00m \u001b[43ma\u001b[49m\u001b[43m \u001b[49m\u001b[38;5;241;43m/\u001b[39;49m\u001b[43m \u001b[49m\u001b[43mb\u001b[49m\n",
      "\u001b[0;31mZeroDivisionError\u001b[0m: division by zero"
     ]
    }
   ],
   "source": [
    "'''Q.2> What happens when an exception is not handled? Explain with an example\n",
    "Ans>    When an exception is not handled, the program execution stops immediately and a traceback is \n",
    "        displayed, indicating the location in the code where the exception occurred. The traceback \n",
    "        shows the sequence of function calls that led to the exception, and the error message associated\n",
    "        with the exception.\n",
    "for example '''\n",
    "def divide(a, b):\n",
    "    return a / b\n",
    "\n",
    "print(divide(10, 2))\n",
    "print(divide(10, 0))\n",
    "print(divide(20, 10))\n",
    "\n"
   ]
  },
  {
   "cell_type": "code",
   "execution_count": 3,
   "id": "378e516d-5d78-45df-8cc3-ffb80ca19330",
   "metadata": {},
   "outputs": [
    {
     "name": "stdout",
     "output_type": "stream",
     "text": [
      "Error: Division by zero\n",
      "Program continues to execute\n"
     ]
    }
   ],
   "source": [
    "'''Q.3> Which Python statements are used to catch and handle exception ? Explain with an example.\n",
    "Ans>    In Python, the try and except statements are used to catch and handle exceptions. The try \n",
    "        block contains the code that might raise an exception, and the except block contains the \n",
    "        code that will be executed if an exception occurs.\n",
    "\n",
    "Here's an example:'''\n",
    "try:\n",
    "    # Code that might raise an exception\n",
    "    result = 10 / 0\n",
    "except ZeroDivisionError:\n",
    "    # Code to handle the exception\n",
    "    print(\"Error: Division by zero\")\n",
    "\n",
    "print(\"Program continues to execute\")\n"
   ]
  },
  {
   "cell_type": "code",
   "execution_count": null,
   "id": "34727947-5720-464e-9c91-cfadad104381",
   "metadata": {},
   "outputs": [],
   "source": [
    "Q.4> Explain with an example:\n",
    "    (a) try and else\n",
    "    (b) finally\n",
    "    (c) raise \n",
    "Ans> (a) try and else:\n",
    "     The try and else statements are used to handle exceptions in Python. The try block contains \n",
    "     the code that might raise an exception, and the else block contains the code that will be \n",
    "     executed if no exceptions occur in the try block.\n",
    "\n",
    "     Here's an example:\n",
    "try:\n",
    "    # Code that might raise an exception\n",
    "    result = 10 / int(input(\"Enter a number: \"))\n",
    "except ZeroDivisionError:\n",
    "    # Code to handle the ZeroDivisionError exception\n",
    "    print(\"Error: Division by zero\")\n",
    "else:\n",
    "    # Code to be executed if no exceptions occur\n",
    "    print(\"Result:\", result)\n",
    "\n",
    "print(\"Program continues to execute\")\n",
    "\n",
    "    (b) finally:\n",
    "    The finally statement is used in combination with the try and except statements to ensure that a block \n",
    "    of code is executed regardless of whether an exception is raised or not. The code in the finally block \n",
    "    will always be executed, whether an exception is raised in the try block or not.\n",
    " \n",
    "    Here's an example:\n",
    "\n",
    "try:\n",
    "    # Code that might raise an exception\n",
    "    result = 10 / int(input(\"Enter a number: \"))\n",
    "except ZeroDivisionError:\n",
    "    # Code to handle the ZeroDivisionError exception\n",
    "    print(\"Error: Division by zero\")\n",
    "finally:\n",
    "    # Code that will always be executed\n",
    "    print(\"Cleaning up resources\")\n",
    "\n",
    "print(\"Program continues to execute\")\n",
    "\n",
    "    (c) raise:\n",
    "    The raise statement is used to raise an exception in Python. You can raise a built-in exception or \n",
    "    create a custom exception by defining your own exception class.\n",
    "\n",
    "    Here's an example:\n",
    "def positive_number(number):\n",
    "    if number <= 0:\n",
    "        raise ValueError(\"Number must be positive\")\n",
    "    return number\n",
    "\n",
    "try:\n",
    "    # Code that might raise an exception\n",
    "    number = int(input(\"Enter a positive number: \"))\n",
    "    result = positive_number(number)\n",
    "except ValueError as e:\n",
    "    # Code to handle the ValueError exception\n",
    "    print(e)\n",
    "\n",
    "print(\"Program continues to execute\")\n",
    "\n"
   ]
  },
  {
   "cell_type": "code",
   "execution_count": null,
   "id": "b3dd0755-c1cb-421d-88dc-9189648c6264",
   "metadata": {},
   "outputs": [],
   "source": [
    "Q.5> What are Custom Exceptions in python? Why do we need Custom Exceptions? Explain with an example.\n",
    "Ans> Custom exceptions in Python are user-defined exception classes that inherit from the built-in\n",
    "     Exception class.They are used to handle specific and custom error conditions that are not covered \n",
    "     by the built-in exceptions. Custom exceptions allow you to create meaningful error messages and \n",
    "     provide a structured way to handle error conditions in your code.\n",
    "class NegativeNumberError(Exception):\n",
    "    def __init__(self, message):\n",
    "        self.message = message\n",
    "\n",
    "def positive_number(number):\n",
    "    if number <= 0:\n",
    "        raise NegativeNumberError(\"Number must be positive\")\n",
    "    return number\n",
    "\n",
    "try:\n",
    "    # Code that might raise an exception\n",
    "    number = int(input(\"Enter a positive number: \"))\n",
    "    result = positive_number(number)\n",
    "except NegativeNumberError as e:\n",
    "    # Code to handle the NegativeNumberError exception\n",
    "    print(e.message)\n",
    "\n",
    "print(\"Program continues to execute\")\n"
   ]
  },
  {
   "cell_type": "code",
   "execution_count": 4,
   "id": "7aec7d91-312e-4e7c-bfd0-7f785b2b36a0",
   "metadata": {},
   "outputs": [
    {
     "name": "stdout",
     "output_type": "stream",
     "text": [
      "Cannot divide by zero\n",
      "Program continues to execute\n"
     ]
    }
   ],
   "source": [
    "#Q.6> What are Custom Exceptions in python? Why do we need Custom Exceptions? Explain with an example.\n",
    "class CustomException(Exception):\n",
    "    def __init__(self, message):\n",
    "        self.message = message\n",
    "\n",
    "def divide(a, b):\n",
    "    if b == 0:\n",
    "        raise CustomException(\"Cannot divide by zero\")\n",
    "    return a / b\n",
    "\n",
    "try:\n",
    "    result = divide(10, 0)\n",
    "except CustomException as e:\n",
    "    print(e.message)\n",
    "\n",
    "print(\"Program continues to execute\")\n",
    " "
   ]
  },
  {
   "cell_type": "code",
   "execution_count": null,
   "id": "e8c037f8-be88-45bf-b395-4bfa5b362b9c",
   "metadata": {},
   "outputs": [],
   "source": []
  }
 ],
 "metadata": {
  "kernelspec": {
   "display_name": "Python 3 (ipykernel)",
   "language": "python",
   "name": "python3"
  },
  "language_info": {
   "codemirror_mode": {
    "name": "ipython",
    "version": 3
   },
   "file_extension": ".py",
   "mimetype": "text/x-python",
   "name": "python",
   "nbconvert_exporter": "python",
   "pygments_lexer": "ipython3",
   "version": "3.10.8"
  }
 },
 "nbformat": 4,
 "nbformat_minor": 5
}
